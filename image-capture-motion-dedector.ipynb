{
 "cells": [
  {
   "cell_type": "markdown",
   "metadata": {},
   "source": [
    "# Installing dependencies"
   ]
  },
  {
   "cell_type": "code",
   "execution_count": 1,
   "metadata": {},
   "outputs": [],
   "source": [
    "#!pip3 install opencv-python\n",
    "#!pip3 install dlib\n"
   ]
  },
  {
   "cell_type": "code",
   "execution_count": 6,
   "metadata": {},
   "outputs": [],
   "source": [
    "import numpy as np\n",
    "import cv2\n",
    "import datetime\n",
    "import time\n"
   ]
  },
  {
   "cell_type": "markdown",
   "metadata": {},
   "source": [
    "# Listing available webcams"
   ]
  },
  {
   "cell_type": "code",
   "execution_count": 7,
   "metadata": {},
   "outputs": [
    {
     "name": "stdout",
     "output_type": "stream",
     "text": [
      "Available cameras: [{'index': 0, 'width': 1920, 'height': 1080, 'fps': 30.00003}, {'index': 1, 'width': 1920, 'height': 1080, 'fps': 30.0}]\n"
     ]
    }
   ],
   "source": [
    "def list_available_cameras():\n",
    "    # Get the list of available cameras\n",
    "    camera_list = []\n",
    "\n",
    "    for index in range(10):  # Try checking up to 10 camera indices (you can adjust this number as needed)\n",
    "        cap = cv2.VideoCapture(index)\n",
    "        \n",
    "        if not cap.read()[0]:\n",
    "            break\n",
    "        else:\n",
    "            # camera_list.append(index)\n",
    "\n",
    "            # Get camera properties\n",
    "            width = int(cap.get(cv2.CAP_PROP_FRAME_WIDTH))\n",
    "            height = int(cap.get(cv2.CAP_PROP_FRAME_HEIGHT))\n",
    "            fps = cap.get(cv2.CAP_PROP_FPS)\n",
    "\n",
    "            camera_list.append({\"index\": index, \"width\": width, \"height\": height, \"fps\": fps})\n",
    "\n",
    "        cap.release()\n",
    "\n",
    "    return camera_list\n",
    "\n",
    "# Call the function to get the list of available cameras\n",
    "available_cameras = list_available_cameras()\n",
    "\n",
    "# Print the list of available cameras\n",
    "print(\"Available cameras:\", available_cameras)\n"
   ]
  },
  {
   "cell_type": "markdown",
   "metadata": {},
   "source": [
    "## Configuration"
   ]
  },
  {
   "cell_type": "code",
   "execution_count": 23,
   "metadata": {},
   "outputs": [],
   "source": [
    "CAMERA_INDEX = 0\n",
    "SLEEP_DURATION_IN_SECONDS = 1\n",
    "OUTPUT_FOLDER = './pictures'\n",
    "\n",
    "IMAGE_WIDTH = 640\n",
    "IMAGE_HEIGHT = 480\n"
   ]
  },
  {
   "cell_type": "code",
   "execution_count": 9,
   "metadata": {},
   "outputs": [],
   "source": [
    "cap = cv2.VideoCapture(CAMERA_INDEX)\n"
   ]
  },
  {
   "cell_type": "code",
   "execution_count": 10,
   "metadata": {},
   "outputs": [],
   "source": [
    "if not cap.isOpened():\n",
    "    print(\"Cannot open camera\")\n",
    "    exit()\n"
   ]
  },
  {
   "cell_type": "code",
   "execution_count": 29,
   "metadata": {},
   "outputs": [],
   "source": [
    "def save_frame(frame, output_dir):\n",
    "    # Create the output directory if it doesn't exist\n",
    "    if not os.path.exists(output_dir):\n",
    "        os.makedirs(output_dir)\n",
    "\n",
    "    # Generate a filename based on the current timestamp\n",
    "    timestamp = datetime.datetime.now().strftime(\"%Y-%m-%d_%H%M%S\")\n",
    "    filename = os.path.join(output_dir, f\"motion_{timestamp}.jpg\")\n",
    "\n",
    "    resized_frame = cv2.resize(frame, (IMAGE_WIDTH, IMAGE_HEIGHT))\n",
    "\n",
    "    # Save the frame to a JPG file\n",
    "    cv2.imwrite(filename, resized_frame)\n",
    "    print(f\"Frame saved to {filename}\")"
   ]
  },
  {
   "cell_type": "code",
   "execution_count": 30,
   "metadata": {},
   "outputs": [
    {
     "name": "stdout",
     "output_type": "stream",
     "text": [
      "Frame saved to pictures/2023-12-12/motion_2023-12-12_102810.jpg\n",
      "Motion detected at 2023-12-12 10:28:10\n",
      "Frame saved to pictures/2023-12-12/motion_2023-12-12_102818.jpg\n",
      "Motion detected at 2023-12-12 10:28:18\n",
      "Frame saved to pictures/2023-12-12/motion_2023-12-12_102820.jpg\n",
      "Motion detected at 2023-12-12 10:28:20\n",
      "Frame saved to pictures/2023-12-12/motion_2023-12-12_102821.jpg\n",
      "Motion detected at 2023-12-12 10:28:21\n",
      "Frame saved to pictures/2023-12-12/motion_2023-12-12_102823.jpg\n",
      "Motion detected at 2023-12-12 10:28:23\n",
      "Frame saved to pictures/2023-12-12/motion_2023-12-12_102824.jpg\n",
      "Motion detected at 2023-12-12 10:28:24\n",
      "Frame saved to pictures/2023-12-12/motion_2023-12-12_102826.jpg\n",
      "Motion detected at 2023-12-12 10:28:26\n",
      "Frame saved to pictures/2023-12-12/motion_2023-12-12_102828.jpg\n",
      "Motion detected at 2023-12-12 10:28:28\n",
      "Frame saved to pictures/2023-12-12/motion_2023-12-12_102830.jpg\n",
      "Motion detected at 2023-12-12 10:28:30\n",
      "Frame saved to pictures/2023-12-12/motion_2023-12-12_102831.jpg\n",
      "Motion detected at 2023-12-12 10:28:31\n",
      "Frame saved to pictures/2023-12-12/motion_2023-12-12_102834.jpg\n",
      "Motion detected at 2023-12-12 10:28:34\n",
      "Frame saved to pictures/2023-12-12/motion_2023-12-12_102835.jpg\n",
      "Motion detected at 2023-12-12 10:28:35\n"
     ]
    }
   ],
   "source": [
    "import datetime\n",
    "import os\n",
    "\n",
    "# Initialize the video capture object\n",
    "cap = cv2.VideoCapture(0)  # Use 0 for the default camera, you may need to change it based on your setup\n",
    "\n",
    "# Parameters for motion detection\n",
    "min_area = 500  # Minimum area to consider as motion\n",
    "motion_detected = False\n",
    "\n",
    "# Set initial time for frame saving\n",
    "next_save_time = time.time() + 60  # Save the first frame immediately\n",
    "\n",
    "# Main loop\n",
    "while True:\n",
    "    # Read a frame from the webcam\n",
    "    ret, frame = cap.read()\n",
    "\n",
    "    # Convert the frame to grayscale\n",
    "    gray = cv2.cvtColor(frame, cv2.COLOR_BGR2GRAY)\n",
    "\n",
    "    # Apply GaussianBlur to the frame to reduce noise\n",
    "    blur = cv2.GaussianBlur(gray, (21, 21), 0)\n",
    "\n",
    "    # Store the initial frame for background subtraction\n",
    "    if not motion_detected:\n",
    "        initial_frame = blur\n",
    "        motion_detected = True\n",
    "        continue\n",
    "\n",
    "    # Compute the absolute difference between the current frame and the initial frame\n",
    "    frame_delta = cv2.absdiff(initial_frame, blur)\n",
    "\n",
    "    # Threshold the frame delta\n",
    "    _, thresh = cv2.threshold(frame_delta, 25, 255, cv2.THRESH_BINARY)\n",
    "\n",
    "    # Dilate the thresholded image to fill in holes\n",
    "    thresh = cv2.dilate(thresh, None, iterations=2)\n",
    "\n",
    "    # Find contours in the thresholded image\n",
    "    contours, _ = cv2.findContours(thresh.copy(), cv2.RETR_EXTERNAL, cv2.CHAIN_APPROX_SIMPLE)\n",
    "\n",
    "    # Check for motion\n",
    "    motion_detected = False\n",
    "    for contour in contours:\n",
    "        if cv2.contourArea(contour) > min_area:\n",
    "            motion_detected = True\n",
    "            break\n",
    "\n",
    "    current_second = datetime.datetime.now().second\n",
    "\n",
    "    # If motion is detected, log the timestamp\n",
    "    if motion_detected or current_second == 0:\n",
    "        timestamp = datetime.datetime.now().strftime(\"%Y-%m-%d %H:%M:%S\")\n",
    "        save_frame(gray, f\"pictures/{timestamp[:10]}\")\n",
    "        \n",
    "        if motion_detected:\n",
    "          print(f\"Motion detected at {timestamp}\")\n",
    "          motion_detected = False\n",
    "          time.sleep(SLEEP_DURATION_IN_SECONDS)\n",
    "\n",
    "        next_save_time = time.time() + 60\n",
    "\n",
    "    # Display the frame\n",
    "    cv2.imshow(\"Frame\", gray)\n",
    "\n",
    "    # Check for the 'q' key to quit the program\n",
    "    key = cv2.waitKey(1) & 0xFF\n",
    "    if key == ord(\"q\"):\n",
    "        break\n",
    "\n",
    "# Release the video capture object and close all windows\n",
    "cap.release()\n",
    "cv2.destroyAllWindows()\n"
   ]
  }
 ],
 "metadata": {
  "kernelspec": {
   "display_name": "Python 3",
   "language": "python",
   "name": "python3"
  },
  "language_info": {
   "codemirror_mode": {
    "name": "ipython",
    "version": 3
   },
   "file_extension": ".py",
   "mimetype": "text/x-python",
   "name": "python",
   "nbconvert_exporter": "python",
   "pygments_lexer": "ipython3",
   "version": "3.9.6"
  }
 },
 "nbformat": 4,
 "nbformat_minor": 2
}
