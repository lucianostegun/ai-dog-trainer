{
 "cells": [
  {
   "cell_type": "markdown",
   "metadata": {},
   "source": [
    "# Carregamento da webcam"
   ]
  },
  {
   "cell_type": "code",
   "execution_count": 1,
   "metadata": {},
   "outputs": [
    {
     "name": "stdout",
     "output_type": "stream",
     "text": [
      "Defaulting to user installation because normal site-packages is not writeable\n",
      "Requirement already satisfied: opencv-python in /Users/lucianostegun/Library/Python/3.9/lib/python/site-packages (4.8.1.78)\n",
      "Requirement already satisfied: numpy>=1.17.3 in /Users/lucianostegun/Library/Python/3.9/lib/python/site-packages (from opencv-python) (1.26.2)\n",
      "\u001b[33mWARNING: You are using pip version 21.2.4; however, version 23.3.1 is available.\n",
      "You should consider upgrading via the '/Applications/Xcode.app/Contents/Developer/usr/bin/python3 -m pip install --upgrade pip' command.\u001b[0m\n",
      "Defaulting to user installation because normal site-packages is not writeable\n",
      "Requirement already satisfied: dlib in /Users/lucianostegun/Library/Python/3.9/lib/python/site-packages (19.24.2)\n",
      "\u001b[33mWARNING: You are using pip version 21.2.4; however, version 23.3.1 is available.\n",
      "You should consider upgrading via the '/Applications/Xcode.app/Contents/Developer/usr/bin/python3 -m pip install --upgrade pip' command.\u001b[0m\n"
     ]
    }
   ],
   "source": [
    "!pip3 install opencv-python\n",
    "!pip3 install dlib\n"
   ]
  },
  {
   "cell_type": "code",
   "execution_count": 2,
   "metadata": {},
   "outputs": [],
   "source": [
    "import numpy as np\n",
    "import cv2 as cv\n",
    "import datetime\n",
    "import time\n"
   ]
  },
  {
   "cell_type": "markdown",
   "metadata": {},
   "source": [
    "# Listando cameras disponíves"
   ]
  },
  {
   "cell_type": "code",
   "execution_count": 3,
   "metadata": {},
   "outputs": [
    {
     "name": "stdout",
     "output_type": "stream",
     "text": [
      "Available cameras: [0]\n"
     ]
    }
   ],
   "source": [
    "def list_available_cameras():\n",
    "    # Get the list of available cameras\n",
    "    camera_list = []\n",
    "    for index in range(10):  # Try checking up to 10 camera indices (you can adjust this number as needed)\n",
    "        cap = cv.VideoCapture(index)\n",
    "        if not cap.read()[0]:\n",
    "            break\n",
    "        else:\n",
    "            camera_list.append(index)\n",
    "        cap.release()\n",
    "\n",
    "    return camera_list\n",
    "\n",
    "# Call the function to get the list of available cameras\n",
    "available_cameras = list_available_cameras()\n",
    "\n",
    "# Print the list of available cameras\n",
    "print(\"Available cameras:\", available_cameras)\n"
   ]
  },
  {
   "cell_type": "code",
   "execution_count": 4,
   "metadata": {},
   "outputs": [],
   "source": [
    "cap = cv.VideoCapture(0)\n"
   ]
  },
  {
   "cell_type": "code",
   "execution_count": 5,
   "metadata": {},
   "outputs": [],
   "source": [
    "if not cap.isOpened():\n",
    "    print(\"Cannot open camera\")\n",
    "    exit()\n"
   ]
  },
  {
   "cell_type": "code",
   "execution_count": 6,
   "metadata": {},
   "outputs": [],
   "source": [
    "output_folder = '.'\n",
    "file_format = 'jpg'\n",
    "\n",
    "while True:\n",
    "    # Capture frame-by-frame\n",
    "    ret, frame = cap.read()\n",
    "    # if frame is read correctly ret is True\n",
    "    if not ret:\n",
    "        print(\"Can't receive frame (stream end?). Exiting ...\")\n",
    "        break\n",
    "    # Our operations on the frame come here\n",
    "    gray = cv.cvtColor(frame, cv.COLOR_BGR2GRAY)\n",
    "\n",
    "    # marcos_faciais = obter_marcos(gray)\n",
    "    # imagem_marcos = anotar_marcos(gray, marcos_faciais)   \n",
    "    # Display the resulting frame\n",
    "    cv.imshow('frame', gray)\n",
    "    if cv.waitKey(1) == ord('q'):\n",
    "        break\n",
    "    \n",
    "    # Generate the filename based on the current date and time\n",
    "    current_datetime = datetime.datetime.now()\n",
    "    filename = current_datetime.strftime(\"%Y-%m-%d %H:%M:%S\") + '.' + file_format\n",
    "\n",
    "    # Save the frame as a JPEG file\n",
    "    filepath = f'{output_folder}/{filename}'\n",
    "    cv.imwrite(filepath, gray)\n",
    "\n",
    "    time.sleep(5)\n",
    "# When everything done, release the capture\n",
    "cap.release()\n",
    "cv.destroyAllWindows()\n"
   ]
  }
 ],
 "metadata": {
  "kernelspec": {
   "display_name": "Python 3",
   "language": "python",
   "name": "python3"
  },
  "language_info": {
   "codemirror_mode": {
    "name": "ipython",
    "version": 3
   },
   "file_extension": ".py",
   "mimetype": "text/x-python",
   "name": "python",
   "nbconvert_exporter": "python",
   "pygments_lexer": "ipython3",
   "version": "3.9.6"
  }
 },
 "nbformat": 4,
 "nbformat_minor": 2
}
