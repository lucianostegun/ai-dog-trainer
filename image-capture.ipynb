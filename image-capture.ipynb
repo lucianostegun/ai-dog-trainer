{
 "cells": [
  {
   "cell_type": "markdown",
   "metadata": {},
   "source": [
    "# Installing dependencies"
   ]
  },
  {
   "cell_type": "code",
   "execution_count": 1,
   "metadata": {},
   "outputs": [],
   "source": [
    "#!pip3 install opencv-python\n",
    "#!pip3 install dlib\n"
   ]
  },
  {
   "cell_type": "code",
   "execution_count": 2,
   "metadata": {},
   "outputs": [],
   "source": [
    "import numpy as np\n",
    "import cv2 as cv\n",
    "import datetime\n",
    "import time\n"
   ]
  },
  {
   "cell_type": "markdown",
   "metadata": {},
   "source": [
    "# Listing available webcams"
   ]
  },
  {
   "cell_type": "code",
   "execution_count": 3,
   "metadata": {},
   "outputs": [
    {
     "name": "stdout",
     "output_type": "stream",
     "text": [
      "Available cameras: []\n"
     ]
    }
   ],
   "source": [
    "def list_available_cameras():\n",
    "    # Get the list of available cameras\n",
    "    camera_list = []\n",
    "\n",
    "    for index in range(10):  # Try checking up to 10 camera indices (you can adjust this number as needed)\n",
    "        cap = cv.VideoCapture(index)\n",
    "        \n",
    "        if not cap.read()[0]:\n",
    "            break\n",
    "        else:\n",
    "            # camera_list.append(index)\n",
    "\n",
    "            # Get camera properties\n",
    "            width = int(cap.get(cv.CAP_PROP_FRAME_WIDTH))\n",
    "            height = int(cap.get(cv.CAP_PROP_FRAME_HEIGHT))\n",
    "            fps = cap.get(cv.CAP_PROP_FPS)\n",
    "\n",
    "            camera_list.append({\"index\": index, \"width\": width, \"height\": height, \"fps\": fps})\n",
    "\n",
    "        cap.release()\n",
    "\n",
    "    return camera_list\n",
    "\n",
    "# Call the function to get the list of available cameras\n",
    "available_cameras = list_available_cameras()\n",
    "\n",
    "# Print the list of available cameras\n",
    "print(\"Available cameras:\", available_cameras)\n"
   ]
  },
  {
   "cell_type": "markdown",
   "metadata": {},
   "source": [
    "## Configuration"
   ]
  },
  {
   "cell_type": "code",
   "execution_count": 4,
   "metadata": {},
   "outputs": [],
   "source": [
    "CAMERA_INDEX = 0\n",
    "SLEEP_DURATION_IN_SECONDS = 5\n",
    "OUTPUT_FOLDER = './pictures'\n",
    "\n",
    "IMAGE_WIDTH = 640\n",
    "IMAGE_HEIGHT = 480\n"
   ]
  },
  {
   "cell_type": "code",
   "execution_count": 5,
   "metadata": {},
   "outputs": [],
   "source": [
    "cap = cv.VideoCapture(CAMERA_INDEX)\n"
   ]
  },
  {
   "cell_type": "code",
   "execution_count": 6,
   "metadata": {},
   "outputs": [],
   "source": [
    "if not cap.isOpened():\n",
    "    print(\"Cannot open camera\")\n",
    "    exit()\n"
   ]
  },
  {
   "cell_type": "code",
   "execution_count": 7,
   "metadata": {},
   "outputs": [
    {
     "name": "stdout",
     "output_type": "stream",
     "text": [
      "Can't receive frame (stream end?). Exiting ...\n"
     ]
    }
   ],
   "source": [
    "file_format = 'jpg'\n",
    "\n",
    "while True:\n",
    "    # Capture frame-by-frame\n",
    "    ret, frame = cap.read()\n",
    "    # if frame is read correctly ret is True\n",
    "    if not ret:\n",
    "        print(\"Can't receive frame (stream end?). Exiting ...\")\n",
    "        break\n",
    "    \n",
    "    # Our operations on the frame come here\n",
    "    # resized_frame = cv.resize(frame, (IMAGE_WIDTH, IMAGE_HEIGHT))\n",
    "\n",
    "    gray = cv.cvtColor(frame, cv.COLOR_BGR2GRAY)\n",
    "\n",
    "    # Display the resulting frame\n",
    "    cv.imshow('frame', gray)\n",
    "    \n",
    "    if cv.waitKey(1) == ord('q'):\n",
    "        break\n",
    "    \n",
    "    # Generate the filename based on the current date and time\n",
    "    current_datetime = datetime.datetime.now()\n",
    "    filename = current_datetime.strftime(\"%Y-%m-%d %H:%M:%S\") + '.' + file_format\n",
    "\n",
    "    # Save the frame as a JPEG file\n",
    "    filepath = f'{OUTPUT_FOLDER}/{filename}'\n",
    "    cv.imwrite(filepath, gray)\n",
    "\n",
    "    time.sleep(SLEEP_DURATION_IN_SECONDS)\n",
    "# When everything done, release the capture\n",
    "cap.release()\n",
    "cv.destroyAllWindows()\n"
   ]
  }
 ],
 "metadata": {
  "kernelspec": {
   "display_name": "Python 3",
   "language": "python",
   "name": "python3"
  },
  "language_info": {
   "codemirror_mode": {
    "name": "ipython",
    "version": 3
   },
   "file_extension": ".py",
   "mimetype": "text/x-python",
   "name": "python",
   "nbconvert_exporter": "python",
   "pygments_lexer": "ipython3",
   "version": "3.9.6"
  }
 },
 "nbformat": 4,
 "nbformat_minor": 2
}
