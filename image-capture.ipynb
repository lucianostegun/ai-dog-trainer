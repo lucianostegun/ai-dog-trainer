{
 "cells": [
  {
   "cell_type": "markdown",
   "metadata": {},
   "source": [
    "# Installing dependencies"
   ]
  },
  {
   "cell_type": "code",
   "execution_count": 8,
   "metadata": {},
   "outputs": [
    {
     "name": "stdout",
     "output_type": "stream",
     "text": [
      "Defaulting to user installation because normal site-packages is not writeable\n",
      "Requirement already satisfied: opencv-python in /Users/lucianostegun/Library/Python/3.9/lib/python/site-packages (4.8.1.78)\n",
      "Requirement already satisfied: numpy>=1.21.0 in /Users/lucianostegun/Library/Python/3.9/lib/python/site-packages (from opencv-python) (1.26.2)\n",
      "\u001b[33mWARNING: You are using pip version 21.2.4; however, version 23.3.1 is available.\n",
      "You should consider upgrading via the '/Applications/Xcode.app/Contents/Developer/usr/bin/python3 -m pip install --upgrade pip' command.\u001b[0m\n",
      "Defaulting to user installation because normal site-packages is not writeable\n",
      "Requirement already satisfied: dlib in /Users/lucianostegun/Library/Python/3.9/lib/python/site-packages (19.24.2)\n",
      "\u001b[33mWARNING: You are using pip version 21.2.4; however, version 23.3.1 is available.\n",
      "You should consider upgrading via the '/Applications/Xcode.app/Contents/Developer/usr/bin/python3 -m pip install --upgrade pip' command.\u001b[0m\n"
     ]
    }
   ],
   "source": [
    "!pip3 install opencv-python\n",
    "!pip3 install dlib\n"
   ]
  },
  {
   "cell_type": "code",
   "execution_count": 9,
   "metadata": {},
   "outputs": [],
   "source": [
    "import numpy as np\n",
    "import cv2 as cv\n",
    "import datetime\n",
    "import time\n"
   ]
  },
  {
   "cell_type": "markdown",
   "metadata": {},
   "source": [
    "# Listing available webcams"
   ]
  },
  {
   "cell_type": "code",
   "execution_count": 10,
   "metadata": {},
   "outputs": [
    {
     "ename": "KeyboardInterrupt",
     "evalue": "",
     "output_type": "error",
     "traceback": [
      "\u001b[0;31m---------------------------------------------------------------------------\u001b[0m",
      "\u001b[0;31mKeyboardInterrupt\u001b[0m                         Traceback (most recent call last)",
      "\u001b[1;32m/Users/lucianostegun/Projetos/ai-dog-trainer/image-capture.ipynb Cell 5\u001b[0m line \u001b[0;36m2\n\u001b[1;32m     <a href='vscode-notebook-cell:/Users/lucianostegun/Projetos/ai-dog-trainer/image-capture.ipynb#W4sZmlsZQ%3D%3D?line=21'>22</a>\u001b[0m     \u001b[39mreturn\u001b[39;00m camera_list\n\u001b[1;32m     <a href='vscode-notebook-cell:/Users/lucianostegun/Projetos/ai-dog-trainer/image-capture.ipynb#W4sZmlsZQ%3D%3D?line=23'>24</a>\u001b[0m \u001b[39m# Call the function to get the list of available cameras\u001b[39;00m\n\u001b[0;32m---> <a href='vscode-notebook-cell:/Users/lucianostegun/Projetos/ai-dog-trainer/image-capture.ipynb#W4sZmlsZQ%3D%3D?line=24'>25</a>\u001b[0m available_cameras \u001b[39m=\u001b[39m list_available_cameras()\n\u001b[1;32m     <a href='vscode-notebook-cell:/Users/lucianostegun/Projetos/ai-dog-trainer/image-capture.ipynb#W4sZmlsZQ%3D%3D?line=26'>27</a>\u001b[0m \u001b[39m# Print the list of available cameras\u001b[39;00m\n\u001b[1;32m     <a href='vscode-notebook-cell:/Users/lucianostegun/Projetos/ai-dog-trainer/image-capture.ipynb#W4sZmlsZQ%3D%3D?line=27'>28</a>\u001b[0m \u001b[39mprint\u001b[39m(\u001b[39m\"\u001b[39m\u001b[39mAvailable cameras:\u001b[39m\u001b[39m\"\u001b[39m, available_cameras)\n",
      "\u001b[1;32m/Users/lucianostegun/Projetos/ai-dog-trainer/image-capture.ipynb Cell 5\u001b[0m line \u001b[0;36m6\n\u001b[1;32m      <a href='vscode-notebook-cell:/Users/lucianostegun/Projetos/ai-dog-trainer/image-capture.ipynb#W4sZmlsZQ%3D%3D?line=2'>3</a>\u001b[0m camera_list \u001b[39m=\u001b[39m []\n\u001b[1;32m      <a href='vscode-notebook-cell:/Users/lucianostegun/Projetos/ai-dog-trainer/image-capture.ipynb#W4sZmlsZQ%3D%3D?line=4'>5</a>\u001b[0m \u001b[39mfor\u001b[39;00m index \u001b[39min\u001b[39;00m \u001b[39mrange\u001b[39m(\u001b[39m10\u001b[39m):  \u001b[39m# Try checking up to 10 camera indices (you can adjust this number as needed)\u001b[39;00m\n\u001b[0;32m----> <a href='vscode-notebook-cell:/Users/lucianostegun/Projetos/ai-dog-trainer/image-capture.ipynb#W4sZmlsZQ%3D%3D?line=5'>6</a>\u001b[0m     cap \u001b[39m=\u001b[39m cv\u001b[39m.\u001b[39;49mVideoCapture(index)\n\u001b[1;32m      <a href='vscode-notebook-cell:/Users/lucianostegun/Projetos/ai-dog-trainer/image-capture.ipynb#W4sZmlsZQ%3D%3D?line=7'>8</a>\u001b[0m     \u001b[39mif\u001b[39;00m \u001b[39mnot\u001b[39;00m cap\u001b[39m.\u001b[39mread()[\u001b[39m0\u001b[39m]:\n\u001b[1;32m      <a href='vscode-notebook-cell:/Users/lucianostegun/Projetos/ai-dog-trainer/image-capture.ipynb#W4sZmlsZQ%3D%3D?line=8'>9</a>\u001b[0m         \u001b[39mbreak\u001b[39;00m\n",
      "\u001b[0;31mKeyboardInterrupt\u001b[0m: "
     ]
    }
   ],
   "source": [
    "def list_available_cameras():\n",
    "    # Get the list of available cameras\n",
    "    camera_list = []\n",
    "\n",
    "    for index in range(10):  # Try checking up to 10 camera indices (you can adjust this number as needed)\n",
    "        cap = cv.VideoCapture(index)\n",
    "        \n",
    "        if not cap.read()[0]:\n",
    "            break\n",
    "        else:\n",
    "            # camera_list.append(index)\n",
    "\n",
    "            # Get camera properties\n",
    "            width = int(cap.get(cv.CAP_PROP_FRAME_WIDTH))\n",
    "            height = int(cap.get(cv.CAP_PROP_FRAME_HEIGHT))\n",
    "            fps = cap.get(cv.CAP_PROP_FPS)\n",
    "\n",
    "            camera_list.append({\"index\": index, \"width\": width, \"height\": height, \"fps\": fps})\n",
    "\n",
    "        cap.release()\n",
    "\n",
    "    return camera_list\n",
    "\n",
    "# Call the function to get the list of available cameras\n",
    "available_cameras = list_available_cameras()\n",
    "\n",
    "# Print the list of available cameras\n",
    "print(\"Available cameras:\", available_cameras)\n"
   ]
  },
  {
   "cell_type": "markdown",
   "metadata": {},
   "source": [
    "## Configuration"
   ]
  },
  {
   "cell_type": "code",
   "execution_count": null,
   "metadata": {},
   "outputs": [],
   "source": [
    "CAMERA_INDEX = 0\n",
    "SLEEP_DURATION_IN_SECONDS = 5\n",
    "OUTPUT_FOLDER = '.'\n"
   ]
  },
  {
   "cell_type": "code",
   "execution_count": null,
   "metadata": {},
   "outputs": [],
   "source": [
    "cap = cv.VideoCapture(CAMERA_INDEX)\n"
   ]
  },
  {
   "cell_type": "code",
   "execution_count": null,
   "metadata": {},
   "outputs": [],
   "source": [
    "if not cap.isOpened():\n",
    "    print(\"Cannot open camera\")\n",
    "    exit()\n"
   ]
  },
  {
   "cell_type": "code",
   "execution_count": null,
   "metadata": {},
   "outputs": [
    {
     "ename": "KeyboardInterrupt",
     "evalue": "",
     "output_type": "error",
     "traceback": [
      "\u001b[0;31m---------------------------------------------------------------------------\u001b[0m",
      "\u001b[0;31mKeyboardInterrupt\u001b[0m                         Traceback (most recent call last)",
      "\u001b[1;32m/Users/lucianostegun/Projetos/ai-dog-trainer/image-capture.ipynb Cell 10\u001b[0m line \u001b[0;36m2\n\u001b[1;32m     <a href='vscode-notebook-cell:/Users/lucianostegun/Projetos/ai-dog-trainer/image-capture.ipynb#X10sZmlsZQ%3D%3D?line=23'>24</a>\u001b[0m     filepath \u001b[39m=\u001b[39m \u001b[39mf\u001b[39m\u001b[39m'\u001b[39m\u001b[39m{\u001b[39;00mOUTPUT_FOLDER\u001b[39m}\u001b[39;00m\u001b[39m/\u001b[39m\u001b[39m{\u001b[39;00mfilename\u001b[39m}\u001b[39;00m\u001b[39m'\u001b[39m\n\u001b[1;32m     <a href='vscode-notebook-cell:/Users/lucianostegun/Projetos/ai-dog-trainer/image-capture.ipynb#X10sZmlsZQ%3D%3D?line=24'>25</a>\u001b[0m     cv\u001b[39m.\u001b[39mimwrite(filepath, gray)\n\u001b[0;32m---> <a href='vscode-notebook-cell:/Users/lucianostegun/Projetos/ai-dog-trainer/image-capture.ipynb#X10sZmlsZQ%3D%3D?line=26'>27</a>\u001b[0m     time\u001b[39m.\u001b[39;49msleep(SLEEP_DURATION_IN_SECONDS)\n\u001b[1;32m     <a href='vscode-notebook-cell:/Users/lucianostegun/Projetos/ai-dog-trainer/image-capture.ipynb#X10sZmlsZQ%3D%3D?line=27'>28</a>\u001b[0m \u001b[39m# When everything done, release the capture\u001b[39;00m\n\u001b[1;32m     <a href='vscode-notebook-cell:/Users/lucianostegun/Projetos/ai-dog-trainer/image-capture.ipynb#X10sZmlsZQ%3D%3D?line=28'>29</a>\u001b[0m cap\u001b[39m.\u001b[39mrelease()\n",
      "\u001b[0;31mKeyboardInterrupt\u001b[0m: "
     ]
    }
   ],
   "source": [
    "file_format = 'jpg'\n",
    "\n",
    "while True:\n",
    "    # Capture frame-by-frame\n",
    "    ret, frame = cap.read()\n",
    "    # if frame is read correctly ret is True\n",
    "    if not ret:\n",
    "        print(\"Can't receive frame (stream end?). Exiting ...\")\n",
    "        break\n",
    "    \n",
    "    # Our operations on the frame come here\n",
    "    gray = cv.cvtColor(frame, cv.COLOR_BGR2GRAY)\n",
    "\n",
    "    # Display the resulting frame\n",
    "    cv.imshow('frame', gray)\n",
    "    if cv.waitKey(1) == ord('q'):\n",
    "        break\n",
    "    \n",
    "    # Generate the filename based on the current date and time\n",
    "    current_datetime = datetime.datetime.now()\n",
    "    filename = current_datetime.strftime(\"%Y-%m-%d %H:%M:%S\") + '.' + file_format\n",
    "\n",
    "    # Save the frame as a JPEG file\n",
    "    filepath = f'{OUTPUT_FOLDER}/{filename}'\n",
    "    cv.imwrite(filepath, gray)\n",
    "\n",
    "    time.sleep(SLEEP_DURATION_IN_SECONDS)\n",
    "# When everything done, release the capture\n",
    "cap.release()\n",
    "cv.destroyAllWindows()\n"
   ]
  }
 ],
 "metadata": {
  "kernelspec": {
   "display_name": "Python 3",
   "language": "python",
   "name": "python3"
  },
  "language_info": {
   "codemirror_mode": {
    "name": "ipython",
    "version": 3
   },
   "file_extension": ".py",
   "mimetype": "text/x-python",
   "name": "python",
   "nbconvert_exporter": "python",
   "pygments_lexer": "ipython3",
   "version": "3.9.6"
  }
 },
 "nbformat": 4,
 "nbformat_minor": 2
}
